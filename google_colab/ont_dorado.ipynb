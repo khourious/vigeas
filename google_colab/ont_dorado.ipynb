{
  "cells": [
    {
      "cell_type": "markdown",
      "metadata": {
        "id": "ktyML-FPbnUx"
      },
      "source": [
        "# Initiate GPU runtime"
      ]
    },
    {
      "cell_type": "code",
      "execution_count": null,
      "metadata": {
        "id": "JFe0KxCIwtHf"
      },
      "outputs": [],
      "source": [
        "gpu_info = !nvidia-smi\n",
        "gpu_info = '\\n'.join(gpu_info)\n",
        "if gpu_info.find('failed') >= 0:\n",
        "  print('Not connected to a GPU')\n",
        "else:\n",
        "  print(gpu_info)"
      ]
    },
    {
      "cell_type": "markdown",
      "metadata": {
        "id": "mLykrMiLxItF"
      },
      "source": [
        "# Download sequencing run - Using Google Drive"
      ]
    },
    {
      "cell_type": "code",
      "execution_count": null,
      "metadata": {
        "id": "yEJxTTHuxGQ3"
      },
      "outputs": [],
      "source": [
        "from google.colab import drive\n",
        "drive.mount('/content/gdrive', force_remount = True)\n",
        "\n",
        "!ls gdrive/MyDrive"
      ]
    },
    {
      "cell_type": "markdown",
      "metadata": {
        "id": "EnvgjwegZq9r"
      },
      "source": [
        "# Download sequencing run - Using MEGA.nz"
      ]
    },
    {
      "cell_type": "code",
      "execution_count": null,
      "metadata": {
        "id": "l2XuCjzzZmIV"
      },
      "outputs": [],
      "source": [
        "%%shell\n",
        "\n",
        "sudo apt-get install -y megatools\n",
        "\n",
        "# specify the MEGA url of the sequencing run (*.zip)\n",
        "FILE=\"\"\n",
        "\n",
        "# specify the name of the folder (e. g. IGM_PVM_MINION_LIG_LIBRARYyyyymmdd)\n",
        "FNAME=\"\"\n",
        "\n",
        "megadl \"$FILE\" --path /content/\n",
        "unzip \"$FNAME\".zip; rm \"$FNAME\".zip"
      ]
    },
    {
      "cell_type": "markdown",
      "metadata": {
        "id": "cANw388mZx9Z"
      },
      "source": [
        "# Install Dorado (Oxford Nanopore Technologies)"
      ]
    },
    {
      "cell_type": "code",
      "execution_count": null,
      "metadata": {
        "id": "asbROyy5fAxg"
      },
      "outputs": [],
      "source": [
        "%%shell\n",
        "\n",
        "# https://nanoporetech.com/software/other/dorado\n",
        "DORADO_VERSION=1.0.0\n",
        "\n",
        "wget https://cdn.oxfordnanoportal.com/software/analysis/dorado-\"$DORADO_VERSION\"-linux-x64.tar.gz -O dorado.tar.gz\n",
        "tar -vzxf dorado.tar.gz; rm -rf dorado.tar.gz; mv dorado-\"$DORADO_VERSION\"-linux-x64 ont-dorado; mkdir -p ont-dorado/models\n",
        "\n",
        "./ont-dorado/bin/dorado download --directory ont-dorado/models"
      ]
    },
    {
      "cell_type": "markdown",
      "metadata": {
        "id": "tYhUwBxPdN5p"
      },
      "source": [
        "# BASECALL and DEMULTIPLEX process"
      ]
    },
    {
      "cell_type": "code",
      "execution_count": null,
      "metadata": {
        "id": "udzLPd0tXnFC"
      },
      "outputs": [],
      "source": [
        "%%shell\n",
        "\n",
        "# specify the name of the folder\n",
        "FNAME=\"\"\n",
        "\n",
        "# specify the basecalling model(s) accuracy(ies): fast,hac,sup\n",
        "# https://nanoporetech.com/platform/accuracy\n",
        "ACCURACY=\n",
        "\n",
        "echo \"$ACCURACY\" | tr ',' '\\n' | while read i; do\n",
        "    ./ont-dorado/bin/dorado basecaller --models-directory /content/ont-dorado/models/ \"$i\" \\\n",
        "      /content/\"$FNAME\"/ -r -v -x cuda:all --min-qscore 10 \\\n",
        "      -o /content/\"$FNAME\"-BASECALL-\"$i\"\n",
        "\n",
        "    ./ont-dorado/bin/dorado summary /content/\"$FNAME\"-BASECALL-\"$i\"/*.bam \\\n",
        "      >> /content/\"$FNAME\"-BASECALL-\"$i\"/basecalling_summary.txt\n",
        "\n",
        "    ./ont-dorado/bin/dorado demux /content/\"$FNAME\"-BASECALL-\"$i\" \\\n",
        "    -t $(nproc) -r --kit-name EXP-NBD114 --emit-summary \\\n",
        "    --output-dir /content/\"$FNAME\"-DEMUX-\"$i\"\n",
        "\n",
        "    tar -czvf \"$FNAME\"-BASECALL-\"$i\".tar.gz \"$FNAME\"-BASECALL-\"$i\"\n",
        "    tar -czvf \"$FNAME\"-DEMUX-\"$i\".tar.gz \"$FNAME\"-DEMUX-\"$i\"\n",
        "done"
      ]
    },
    {
      "cell_type": "markdown",
      "metadata": {
        "id": "WfWeyXFPfuhk"
      },
      "source": [
        "# Download the BASECALL and DEMUX analysis (*.taz.gz)"
      ]
    },
    {
      "cell_type": "code",
      "execution_count": 1,
      "metadata": {
        "id": "eqOFuwNzE4kx"
      },
      "outputs": [],
      "source": [
        "from google.colab import files\n",
        "import glob as gl\n",
        "\n",
        "for i in gl.glob('*.tar.gz'):\n",
        "    files.download(i)"
      ]
    }
  ],
  "metadata": {
    "accelerator": "GPU",
    "colab": {
      "gpuType": "A100",
      "machine_shape": "hm",
      "provenance": []
    },
    "kernelspec": {
      "display_name": "Python 3",
      "name": "python3"
    },
    "language_info": {
      "codemirror_mode": {
        "name": "ipython",
        "version": 3
      },
      "file_extension": ".py",
      "mimetype": "text/x-python",
      "name": "python",
      "nbconvert_exporter": "python",
      "pygments_lexer": "ipython3",
      "version": "3.12.4"
    }
  },
  "nbformat": 4,
  "nbformat_minor": 0
}
