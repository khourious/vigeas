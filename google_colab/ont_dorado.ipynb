{
  "cells": [
    {
      "cell_type": "markdown",
      "metadata": {
        "id": "ktyML-FPbnUx"
      },
      "source": [
        "# Initiate GPU runtime"
      ]
    },
    {
      "cell_type": "code",
      "execution_count": null,
      "metadata": {
        "id": "JFe0KxCIwtHf"
      },
      "outputs": [],
      "source": [
        "gpu_info = !nvidia-smi\n",
        "gpu_info = '\\n'.join(gpu_info)\n",
        "if gpu_info.find('failed') >= 0:\n",
        "  print('Not connected to a GPU')\n",
        "else:\n",
        "  print(gpu_info)"
      ]
    },
    {
      "cell_type": "markdown",
      "metadata": {
        "id": "mLykrMiLxItF"
      },
      "source": [
        "# Download sequencing run - Using Google Drive"
      ]
    },
    {
      "cell_type": "code",
      "execution_count": null,
      "metadata": {
        "id": "yEJxTTHuxGQ3"
      },
      "outputs": [],
      "source": [
        "from google.colab import drive\n",
        "drive.mount('/content/gdrive', force_remount = True)\n",
        "\n",
        "!ls gdrive/MyDrive"
      ]
    },
    {
      "cell_type": "markdown",
      "metadata": {
        "id": "EnvgjwegZq9r"
      },
      "source": [
        "# Download sequencing run - Using MEGA.nz"
      ]
    },
    {
      "cell_type": "code",
      "execution_count": null,
      "metadata": {
        "id": "l2XuCjzzZmIV"
      },
      "outputs": [],
      "source": [
        "%%shell\n",
        "\n",
        "sudo apt-get install -y megatools\n",
        "\n",
        "# specify the MEGA url of the sequencing run (*.zip)\n",
        "FILE=\"\"\n",
        "\n",
        "# specify the name of the file (e. g. IGM_PVM_MINION_LIG_LIBRARYyyyymmdd.zip)\n",
        "FILE_NAME=\"\"\n",
        "\n",
        "megadl \"$FILE\" --path /content/\n",
        "unzip \"$FILE_NAME\".zip; rm \"$FILE_NAME\".zip"
      ]
    },
    {
      "cell_type": "markdown",
      "metadata": {
        "id": "cANw388mZx9Z"
      },
      "source": [
        "# Install Dorado (Oxford Nanopore Technologies)"
      ]
    },
    {
      "cell_type": "code",
      "execution_count": null,
      "metadata": {
        "id": "asbROyy5fAxg"
      },
      "outputs": [],
      "source": [
        "%%shell\n",
        "\n",
        "# https://nanoporetech.com/software/other/dorado\n",
        "DORADO_VERSION=1.1.1\n",
        "\n",
        "wget https://cdn.oxfordnanoportal.com/software/analysis/dorado-\"$DORADO_VERSION\"-linux-x64.tar.gz -O dorado.tar.gz\n",
        "tar -vzxf dorado.tar.gz; rm -rf dorado.tar.gz; mv dorado-\"$DORADO_VERSION\"-linux-x64 ont-dorado; mkdir -p ont-dorado/models\n",
        "\n",
        "./ont-dorado/bin/dorado download --directory ont-dorado/models"
      ]
    },
    {
      "cell_type": "markdown",
      "metadata": {
        "id": "p4hIVZbe8J5z"
      },
      "source": [
        "# BASECALL and DEMULTIPLEX process"
      ]
    },
    {
      "cell_type": "code",
      "execution_count": null,
      "metadata": {
        "id": "udzLPd0tXnFC"
      },
      "outputs": [],
      "source": [
        "%%shell\n",
        "\n",
        "# specify the name of the folder\n",
        "FOLDER_NAME=\"\"\n",
        "\n",
        "# specify the basecalling model(s) accuracy(ies): fast,hac,sup\n",
        "# https://nanoporetech.com/platform/accuracy\n",
        "ACCURACY=sup\n",
        "\n",
        "# specify the barcoding kit name.\n",
        "# ./ont-dorado/bin/dorado demux --help\n",
        "# EXP-NBD103 EXP-NBD104 EXP-NBD114 EXP-NBD114-24 EXP-NBD196 EXP-PBC001\n",
        "# EXP-PBC096 SQK-16S024 SQK-16S114-24 SQK-DRB004-24 SQK-LWB001 SQK-MAB114-24\n",
        "# SQK-MLK111-96-XL SQK-MLK114-96-XL SQK-NBD111-24 SQK-NBD111-96 SQK-NBD114-24\n",
        "# SQK-NBD114-96 SQK-PBK004 SQK-PCB109 SQK-PCB110 SQK-PCB111-24 SQK-PCB114-24\n",
        "# SQK-RAB201 SQK-RAB204 SQK-RBK001 SQK-RBK004 SQK-RBK110-96 SQK-RBK111-24\n",
        "# SQK-RBK111-96 SQK-RBK114-24 SQK-RBK114-96 SQK-RLB001 SQK-RPB004 SQK-RPB114-24\n",
        "# TWIST-16-UDI TWIST-96A-UDI VSK-PTC001 VSK-VMK001 VSK-VMK004 VSK-VPS001\n",
        "BARCODE_KIT=SQK-RBK114-96\n",
        "\n",
        "echo \"$ACCURACY\" | tr ',' '\\n' | while read i; do\n",
        "    ./ont-dorado/bin/dorado basecaller --models-directory /content/ont-dorado/models/ \"$i\" \\\n",
        "      /content/\"$FOLDER_NAME\"/ -r -v -x cuda:all --min-qscore 10 --no-trim \\\n",
        "      -o /content/\"$FOLDER_NAME\"-BASECALL-\"$i\"\n",
        "\n",
        "    ./ont-dorado/bin/dorado summary /content/\"$FOLDER_NAME\"-BASECALL-\"$i\"/*/*/bam_pass/*.bam \\\n",
        "      >> /content/\"$FOLDER_NAME\"-BASECALL-\"$i\"/basecalling_summary_pass.txt\n",
        "\n",
        "    ./ont-dorado/bin/dorado summary /content/\"$FOLDER_NAME\"-BASECALL-\"$i\"/*/*/bam_fail/*.bam \\\n",
        "      >> /content/\"$FOLDER_NAME\"-BASECALL-\"$i\"/basecalling_summary_fail.txt\n",
        "\n",
        "    ./ont-dorado/bin/dorado demux /content/\"$FOLDER_NAME\"-BASECALL-\"$i\"/*/*/bam_pass/ \\\n",
        "    -t $(nproc) -r --kit-name \"$BARCODE_KIT\" --emit-summary \\\n",
        "    --output-dir /content/\"$FOLDER_NAME\"-DEMUX-\"$i\"\n",
        "\n",
        "    tar -czvf \"$FOLDER_NAME\"-BASECALL-\"$i\".tar.gz \"$FOLDER_NAME\"-BASECALL-\"$i\"\n",
        "    tar -czvf \"$FOLDER_NAME\"-DEMUX-\"$i\".tar.gz \"$FOLDER_NAME\"-DEMUX-\"$i\"\n",
        "done"
      ]
    },
    {
      "cell_type": "markdown",
      "metadata": {
        "id": "WfWeyXFPfuhk"
      },
      "source": [
        "# Download the BASECALL and DEMUX analysis (*.taz.gz)"
      ]
    },
    {
      "cell_type": "code",
      "execution_count": null,
      "metadata": {
        "id": "eqOFuwNzE4kx"
      },
      "outputs": [],
      "source": [
        "from google.colab import files\n",
        "import glob as gl\n",
        "\n",
        "for i in gl.glob('*.tar.gz'):\n",
        "    files.download(i)"
      ]
    }
  ],
  "metadata": {
    "accelerator": "GPU",
    "colab": {
      "gpuType": "A100",
      "machine_shape": "hm",
      "provenance": []
    },
    "kernelspec": {
      "display_name": "Python 3",
      "name": "python3"
    },
    "language_info": {
      "codemirror_mode": {
        "name": "ipython",
        "version": 3
      },
      "file_extension": ".py",
      "mimetype": "text/x-python",
      "name": "python",
      "nbconvert_exporter": "python",
      "pygments_lexer": "ipython3",
      "version": "3.12.4"
    }
  },
  "nbformat": 4,
  "nbformat_minor": 0
}